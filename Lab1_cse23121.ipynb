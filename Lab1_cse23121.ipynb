{
 "cells": [
  {
   "cell_type": "code",
   "execution_count": 28,
   "id": "f6124986-8b41-465c-a978-ee0677094ed7",
   "metadata": {},
   "outputs": [],
   "source": [
    "##Functions\n",
    "\n",
    "##Q1\n",
    "def pairs(l,s):\n",
    "    r=[]\n",
    "    for i in range(len(l)):\n",
    "        for j in range(i + 1, len(l)):\n",
    "            if l[i] + l[j] == s:            #adds elements and checks whether it is equal to the sum wanted\n",
    "                r.append((l[i], l[j]))\n",
    "    return r\n",
    "\n",
    "##Q2\n",
    "def find_range(l):\n",
    "    if (len(l)<3):\n",
    "        return \"Range determination not possible\"\n",
    "    else:\n",
    "        r=max(l)-min(l)\n",
    "        return r\n",
    "\n",
    "##Q3\n",
    "def matrix_mul(a,b):                              #Seperate function for matrix multiplication\n",
    "    r=[[0,0],[0,0]]\n",
    "    for i in range(len(a)):\n",
    "        for j in range(len(b[0])):\n",
    "            for k in range(len(b)):\n",
    "                r[i][j] += a[i][k] * b[k][j]\n",
    "    return r\n",
    "\n",
    "def matrix_pow(A,m):                              #Used reccurence function\n",
    "    if (m==0):\n",
    "        return [[1,1],[1,1]]\n",
    "    elif (m==1):\n",
    "        return A\n",
    "    else:\n",
    "        return matrix_mul(A,matrix_pow(A,m-1))\n",
    "\n",
    "##Q4\n",
    "def high_freq(s):\n",
    "    maxcount=0\n",
    "    c=''\n",
    "    for i in set(s):                              #Compared characters occurence in order and kept updating as the occurence increases\n",
    "        count=s.count(i)\n",
    "        if (count>maxcount):\n",
    "            c=i\n",
    "            maxcount=count\n",
    "    return c,maxcount\n",
    "\n",
    "##Q5\n",
    "def findmean(A):\n",
    "    n=len(A) \n",
    "    s=0\n",
    "    for i in A:\n",
    "        s=s+i\n",
    "    mean=s/n \n",
    "    return mean\n",
    "\n",
    "def findmedian(A):\n",
    "    n=len(A) \n",
    "    A.sort()\n",
    "    if n % 2 == 0:\n",
    "        median1=A[n//2] \n",
    "        median2=A[n//2 - 1] \n",
    "        median=(median1 + median2)/2\n",
    "    else: \n",
    "        median = A[n//2]  \n",
    "    return median\n",
    "\n",
    "def findmode(A):\n",
    "    val=[]\n",
    "    mode_val=[]\n",
    "    for i in A:\n",
    "        if i not in val:\n",
    "            val.append(i)\n",
    "        else:\n",
    "            mode_val.append(i)\n",
    "    return set(mode_val)\n"
   ]
  },
  {
   "cell_type": "code",
   "execution_count": 36,
   "id": "f0cb53db-ceaf-4b10-85da-c7ca45f0dc66",
   "metadata": {},
   "outputs": [
    {
     "data": {
      "text/plain": [
       "2"
      ]
     },
     "execution_count": 36,
     "metadata": {},
     "output_type": "execute_result"
    }
   ],
   "source": [
    "lst1=[2,7,4,1,3,6]\n",
    "sum_wanted=10\n",
    "len(pairs(lst1,sum_wanted))"
   ]
  },
  {
   "cell_type": "code",
   "execution_count": 37,
   "id": "edfedd1b-5827-411c-920e-1259db2b72f7",
   "metadata": {},
   "outputs": [
    {
     "data": {
      "text/plain": [
       "8"
      ]
     },
     "execution_count": 37,
     "metadata": {},
     "output_type": "execute_result"
    }
   ],
   "source": [
    "lst2=[5,3,8,1,0,4]\n",
    "find_range(lst2)"
   ]
  },
  {
   "cell_type": "code",
   "execution_count": 40,
   "id": "778a4b68-89f6-4387-8449-58b88bc163f2",
   "metadata": {},
   "outputs": [
    {
     "data": {
      "text/plain": [
       "[[5, 4], [4, 5]]"
      ]
     },
     "execution_count": 40,
     "metadata": {},
     "output_type": "execute_result"
    }
   ],
   "source": [
    "A1=[[1,2],[2,1]]\n",
    "matrix_pow(A1,2)"
   ]
  },
  {
   "cell_type": "code",
   "execution_count": 39,
   "id": "6a5ee4e0-4bf9-4bc0-a645-af1a7d380107",
   "metadata": {},
   "outputs": [
    {
     "name": "stdout",
     "output_type": "stream",
     "text": [
      "Char= p  occurance= 3\n"
     ]
    }
   ],
   "source": [
    "string=\"hippopotamus\"\n",
    "char,freq=high_freq(string)\n",
    "print(\"Char=\",char,\" occurance=\",freq)"
   ]
  },
  {
   "cell_type": "code",
   "execution_count": 33,
   "id": "416a5f07-5825-4d7d-b0bf-998954bb0c33",
   "metadata": {},
   "outputs": [
    {
     "name": "stdout",
     "output_type": "stream",
     "text": [
      "5.035805018121755\n",
      "5.302079663251586\n",
      "set()\n"
     ]
    }
   ],
   "source": [
    "import random\n",
    "A = [random.uniform(1, 10) for _ in range(25)]\n",
    "print(findmean(A))\n",
    "print(findmedian(A))\n",
    "print(findmode(A))"
   ]
  },
  {
   "cell_type": "code",
   "execution_count": null,
   "id": "4e09fae7-6972-4ee3-a421-04a30acd2c50",
   "metadata": {},
   "outputs": [],
   "source": []
  }
 ],
 "metadata": {
  "kernelspec": {
   "display_name": "Python [conda env:base] *",
   "language": "python",
   "name": "conda-base-py"
  },
  "language_info": {
   "codemirror_mode": {
    "name": "ipython",
    "version": 3
   },
   "file_extension": ".py",
   "mimetype": "text/x-python",
   "name": "python",
   "nbconvert_exporter": "python",
   "pygments_lexer": "ipython3",
   "version": "3.13.5"
  }
 },
 "nbformat": 4,
 "nbformat_minor": 5
}
