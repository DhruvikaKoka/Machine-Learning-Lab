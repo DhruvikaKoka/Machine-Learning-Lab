{
 "cells": [
  {
   "cell_type": "code",
   "execution_count": 1,
   "id": "f720dffa",
   "metadata": {},
   "outputs": [],
   "source": [
    "import pandas as pd\n",
    "import numpy as np\n",
    "import matplotlib.pyplot as plt\n",
    "from math import log2\n",
    "from sklearn.model_selection import train_test_split\n",
    "from sklearn.linear_model import LinearRegression\n",
    "from sklearn.preprocessing import StandardScaler\n",
    "from sklearn.metrics import mean_squared_error, r2_score, mean_absolute_percentage_error\n",
    "\n",
    "def load_data(filepath):                        #loads file and removes the rows with missing values\n",
    "    df = pd.read_csv(filepath)\n",
    "    return df\n",
    "\n",
    "def preprocess_data(df):\n",
    "    df = df.dropna()\n",
    "    df = pd.get_dummies(df, drop_first=True)\n",
    "    return df\n",
    "\n",
    "def split_data(df, target_column='price'):\n",
    "    X = df.drop(target_column, axis=1)\n",
    "    y = df[target_column]\n",
    "    return train_test_split(X, y, test_size=0.2, random_state=42)\n",
    "\n",
    "def train_model(X_train, y_train):\n",
    "    model = LinearRegression()\n",
    "    model.fit(X_train, y_train)\n",
    "    return model\n",
    "\n",
    "def evaluate_model(model, X_test, y_test):\n",
    "    y_pred = model.predict(X_test)\n",
    "    mse = mean_squared_error(y_test, y_pred)\n",
    "    rmse = np.sqrt(mse)\n",
    "    mape = mean_absolute_percentage_error(y_test, y_pred)\n",
    "    r2 = r2_score(y_test, y_pred)\n",
    "    print(f\"Mean Squared Error: {mse:.2f}\")\n",
    "    print(f\"Mean Absolute % Error: {mape:.2f}\")\n",
    "    print(f\"Root Mean Squared Error: {rmse:.2f}\")\n",
    "    print(f\"R² Score: {r2:.2f}\")\n",
    "    return y_pred\n",
    "\n",
    "def accuracy_model(model, X_test, y_test):                                #accuracy\n",
    "    accuracy = model.score(X_test, y_test)\n",
    "    return accuracy\n",
    "\n",
    "def equal_width_binning(series, bins=4):\n",
    "    return pd.cut(series, bins=bins, labels=False, duplicates='drop')\n",
    "\n",
    "def equal_frequency_binning(series, bins=4):\n",
    "    # Use qcut for quantile-based binning\n",
    "    return pd.qcut(series, q=bins, labels=False, duplicates='drop')\n",
    "\n",
    "def entropy(target_col):\n",
    "    elements, counts = np.unique(target_col, return_counts=True)\n",
    "    entropy_val = -np.sum([(counts[i]/np.sum(counts)) * np.log2(counts[i]/np.sum(counts))\n",
    "                           for i in range(len(elements))])\n",
    "    return entropy_val\n",
    "\n",
    "\n",
    "def calculate_entropy(data):                                             # Entropy Calculation\n",
    "    values, counts = np.unique(data, return_counts=True)\n",
    "    probabilities = counts / counts.sum()\n",
    "    entropy = -np.sum(probabilities * np.log2(probabilities))\n",
    "    return entropy\n",
    "\n",
    "def calculate_gini(series):\n",
    "    probs = series.value_counts(normalize=True)  # probabilities\n",
    "    return 1 - sum(probs ** 2)\n",
    "\n",
    "def information_gain(df, feature_name, target_column):\n",
    "    total_entropy = entropy(df[target_column])\n",
    "\n",
    "    values, counts = np.unique(df[feature_name], return_counts=True)\n",
    "    weighted_entropy = 0\n",
    "    for val, count in zip(values, counts):\n",
    "        subset = df[df[feature_name] == val]\n",
    "        weighted_entropy += (count / len(df)) * entropy(subset[target_column])\n",
    "\n",
    "    return total_entropy - weighted_entropy\n",
    "\n",
    "# --- Find best root node ---\n",
    "def find_root_node(df, target_column):\n",
    "    max_ig = -1\n",
    "    best_feature = None\n",
    "\n",
    "    for col in df.columns:\n",
    "        if col != target_column:\n",
    "            ig = information_gain(df, col, target_column)\n",
    "            if ig > max_ig:\n",
    "                max_ig = ig\n",
    "                best_feature = col\n",
    "\n",
    "    return best_feature, max_ig"
   ]
  },
  {
   "cell_type": "code",
   "execution_count": 2,
   "id": "4f23ed70",
   "metadata": {},
   "outputs": [
    {
     "name": "stdout",
     "output_type": "stream",
     "text": [
      "\n",
      "Entropy of target: 0.030753173912389797\n",
      "\n",
      "Entropy of target: 0.030753173912389797\n"
     ]
    }
   ],
   "source": [
    "# A1: Entropy calculation\n",
    "\n",
    "filepath = r\"C:\\Users\\dhruv\\OneDrive\\Desktop\\ml\\listings.csv\"\n",
    "df = load_data(filepath)\n",
    "df = preprocess_data(df)\n",
    "\n",
    "target_column='price'\n",
    "if pd.api.types.is_numeric_dtype(df[target_column]):\n",
    "    df[target_column] = equal_width_binning(df[target_column], bins=4)\n",
    "\n",
    "print(\"\\nEntropy of target:\", calculate_entropy(df[target_column]))\n",
    "\n",
    "print(\"\\nEntropy of target:\", entropy(df[target_column]))\n",
    "\n",
    "#----frequency binning----#\n",
    "#if pd.api.types.is_numeric_dtype(df[target_column]):\n",
    "#   df[target_column] = equal_frequency_binning(df[target_column], bins=4)\n",
    "\n",
    "#print(df[target_column].value_counts())  # should be roughly equal counts\n",
    "#print(\"\\nEntropy of target:\", calculate_entropy(df[target_column]))"
   ]
  },
  {
   "cell_type": "code",
   "execution_count": 3,
   "id": "e3db8591",
   "metadata": {},
   "outputs": [
    {
     "name": "stdout",
     "output_type": "stream",
     "text": [
      "Gini index of target: 0.006289245589069514\n"
     ]
    }
   ],
   "source": [
    "#A2: Gini index\n",
    "\n",
    "gini_value = calculate_gini(df[target_column])\n",
    "print(\"Gini index of target:\", gini_value)"
   ]
  },
  {
   "cell_type": "code",
   "execution_count": null,
   "id": "4bd40aa3",
   "metadata": {},
   "outputs": [],
   "source": [
    "#A3: root node feature for decision tree\n",
    "\n",
    "filepath = r\"C:\\Users\\dhruv\\OneDrive\\Desktop\\ml\\listings.csv\"\n",
    "df = load_data(filepath)\n",
    "df = preprocess_data(df)\n",
    "\n",
    "target_column = 'price'\n",
    "\n",
    "# Equal-width binning for target\n",
    "if pd.api.types.is_numeric_dtype(df[target_column]):\n",
    "    df[target_column] = equal_width_binning(df[target_column], bins=4)\n",
    "\n",
    "# Run A3\n",
    "root_feature, ig_value = find_root_node(df, target_column)\n",
    "print(f\"Best Root Node: {root_feature} (Information Gain = {ig_value:.4f})\")"
   ]
  },
  {
   "cell_type": "code",
   "execution_count": null,
   "id": "c6d6b770",
   "metadata": {},
   "outputs": [],
   "source": [
    "#A4: "
   ]
  }
 ],
 "metadata": {
  "kernelspec": {
   "display_name": "Python 3 (ipykernel)",
   "language": "python",
   "name": "python3"
  },
  "language_info": {
   "codemirror_mode": {
    "name": "ipython",
    "version": 3
   },
   "file_extension": ".py",
   "mimetype": "text/x-python",
   "name": "python",
   "nbconvert_exporter": "python",
   "pygments_lexer": "ipython3",
   "version": "3.11.5"
  }
 },
 "nbformat": 4,
 "nbformat_minor": 5
}
